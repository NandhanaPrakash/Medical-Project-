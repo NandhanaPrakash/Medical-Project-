{
 "cells": [
  {
   "cell_type": "code",
   "execution_count": 1,
   "metadata": {},
   "outputs": [],
   "source": [
    "import faiss\n",
    "import numpy as np\n",
    "\n",
    "# Load FAISS index\n",
    "index = faiss.read_index(\"/Users/s_lokesh/Medbot/data_clean/index/faiss_index\")\n",
    "\n",
    "def retrieve_passages(query_embedding, top_k=5):\n",
    "    \"\"\"Retrieves top-k relevant passages from FAISS.\"\"\"\n",
    "    distances, indices = index.search(np.array([query_embedding]), top_k)\n",
    "    return indices[0], distances[0]  # Return list of indices & distances\n",
    "\n"
   ]
  },
  {
   "cell_type": "code",
   "execution_count": 2,
   "metadata": {},
   "outputs": [
    {
     "name": "stderr",
     "output_type": "stream",
     "text": [
      "/Users/s_lokesh/Medbot/venv/lib/python3.11/site-packages/tqdm/auto.py:21: TqdmWarning: IProgress not found. Please update jupyter and ipywidgets. See https://ipywidgets.readthedocs.io/en/stable/user_install.html\n",
      "  from .autonotebook import tqdm as notebook_tqdm\n"
     ]
    },
    {
     "ename": "",
     "evalue": "",
     "output_type": "error",
     "traceback": [
      "\u001b[1;31mCanceled future for execute_request message before replies were done"
     ]
    },
    {
     "ename": "",
     "evalue": "",
     "output_type": "error",
     "traceback": [
      "\u001b[1;31mThe Kernel crashed while executing code in the the current cell or a previous cell. Please review the code in the cell(s) to identify a possible cause of the failure. Click <a href='https://aka.ms/vscodeJupyterKernelCrash'>here</a> for more info. View Jupyter <a href='command:jupyter.viewOutput'>log</a> for further details."
     ]
    }
   ],
   "source": [
    "from transformers import pipeline\n",
    "\n",
    "# Load Summarization Model\n",
    "summarizer = pipeline(\"summarization\", model=\"facebook/bart-large-cnn\")\n",
    "\n",
    "def summarize_text(text, min_length=30, max_length=100):\n",
    "    \"\"\"Summarizes retrieved text for concise output.\"\"\"\n",
    "    summary = summarizer(text, min_length=min_length, max_length=max_length, do_sample=False)\n",
    "    return summary[0][\"summary_text\"]\n"
   ]
  },
  {
   "cell_type": "code",
   "execution_count": null,
   "metadata": {},
   "outputs": [
    {
     "ename": "",
     "evalue": "",
     "output_type": "error",
     "traceback": [
      "\u001b[1;31mRunning cells with '/opt/homebrew/bin/python3' requires the ipykernel package.\n",
      "\u001b[1;31mRun the following command to install 'ipykernel' into the Python environment. \n",
      "\u001b[1;31mCommand: '/opt/homebrew/bin/python3 -m pip install ipykernel -U --user --force-reinstall'"
     ]
    }
   ],
   "source": [
    "from sentence_transformers import SentenceTransformer, util\n",
    "\n",
    "# Load BERT Model\n",
    "bert_model = SentenceTransformer(\"sentence-transformers/all-MiniLM-L6-v2\")\n",
    "\n",
    "def rank_relevance(query, retrieved_texts):\n",
    "    \"\"\"Ranks retrieved texts based on similarity to query.\"\"\"\n",
    "    query_embedding = bert_model.encode(query, convert_to_tensor=True)\n",
    "    text_embeddings = bert_model.encode(retrieved_texts, convert_to_tensor=True)\n",
    "    \n",
    "    scores = util.pytorch_cos_sim(query_embedding, text_embeddings)[0].tolist()\n",
    "    ranked_results = sorted(zip(retrieved_texts, scores), key=lambda x: x[1], reverse=True)\n",
    "    \n",
    "    return ranked_results\n"
   ]
  },
  {
   "cell_type": "code",
   "execution_count": null,
   "metadata": {},
   "outputs": [
    {
     "ename": "",
     "evalue": "",
     "output_type": "error",
     "traceback": [
      "\u001b[1;31mRunning cells with '/opt/homebrew/bin/python3' requires the ipykernel package.\n",
      "\u001b[1;31mRun the following command to install 'ipykernel' into the Python environment. \n",
      "\u001b[1;31mCommand: '/opt/homebrew/bin/python3 -m pip install ipykernel -U --user --force-reinstall'"
     ]
    }
   ],
   "source": [
    "import spacy\n",
    "\n",
    "# Load the model\n",
    "nlp = spacy.load(\"/Users/s_lokesh/Medbot/venv/lib/python3.11/site-packages/en_core_sci_scibert/en_core_sci_scibert-0.5.3/\")\n",
    "\n",
    "\n",
    "def extract_medical_terms(text):\n",
    "    \"\"\"Extracts medical terms using Named Entity Recognition (NER).\"\"\"\n",
    "    doc = nlp(text)\n",
    "    medical_terms = [ent.text for ent in doc.ents if ent.label_ in [\"DISEASE\", \"SYMPTOM\", \"MEDICATION\"]]\n",
    "    return medical_terms\n",
    "\n"
   ]
  },
  {
   "cell_type": "code",
   "execution_count": null,
   "metadata": {},
   "outputs": [
    {
     "ename": "",
     "evalue": "",
     "output_type": "error",
     "traceback": [
      "\u001b[1;31mRunning cells with '/opt/homebrew/bin/python3' requires the ipykernel package.\n",
      "\u001b[1;31mRun the following command to install 'ipykernel' into the Python environment. \n",
      "\u001b[1;31mCommand: '/opt/homebrew/bin/python3 -m pip install ipykernel -U --user --force-reinstall'"
     ]
    }
   ],
   "source": [
    "import torch\n",
    "import torch.nn as nn\n",
    "import torch.optim as optim\n",
    "\n",
    "class Generator(nn.Module):\n",
    "    def __init__(self, embedding_dim):\n",
    "        super(Generator, self).__init__()\n",
    "        self.model = nn.Sequential(\n",
    "            nn.Linear(embedding_dim, 256),\n",
    "            nn.ReLU(),\n",
    "            nn.Linear(256, embedding_dim),\n",
    "        )\n",
    "\n",
    "    def forward(self, x):\n",
    "        return self.model(x)\n",
    "\n",
    "class Discriminator(nn.Module):\n",
    "    def __init__(self, embedding_dim):\n",
    "        super(Discriminator, self).__init__()\n",
    "        self.model = nn.Sequential(\n",
    "            nn.Linear(embedding_dim, 256),\n",
    "            nn.ReLU(),\n",
    "            nn.Linear(256, 1),\n",
    "            nn.Sigmoid()\n",
    "        )\n",
    "\n",
    "    def forward(self, x):\n",
    "        return self.model(x)\n",
    "\n",
    "# Initialize models\n",
    "embedding_dim = 384  # Based on FAISS embedding size\n",
    "generator = Generator(embedding_dim)\n",
    "discriminator = Discriminator(embedding_dim)\n"
   ]
  },
  {
   "cell_type": "code",
   "execution_count": null,
   "metadata": {},
   "outputs": [
    {
     "ename": "",
     "evalue": "",
     "output_type": "error",
     "traceback": [
      "\u001b[1;31mRunning cells with '/opt/homebrew/bin/python3' requires the ipykernel package.\n",
      "\u001b[1;31mRun the following command to install 'ipykernel' into the Python environment. \n",
      "\u001b[1;31mCommand: '/opt/homebrew/bin/python3 -m pip install ipykernel -U --user --force-reinstall'"
     ]
    }
   ],
   "source": [
    "def train_gan(retrieved_embeddings, epochs=500, batch_size=16):\n",
    "    optimizer_G = optim.Adam(generator.parameters(), lr=0.0001)\n",
    "    optimizer_D = optim.Adam(discriminator.parameters(), lr=0.0001)\n",
    "    loss_fn = nn.BCELoss()\n",
    "\n",
    "    for epoch in range(epochs):\n",
    "        for i in range(0, len(retrieved_embeddings), batch_size):\n",
    "            real_batch = torch.tensor(retrieved_embeddings[i:i+batch_size], dtype=torch.float32)\n",
    "\n",
    "            # Generate fake embeddings\n",
    "            noise = torch.randn_like(real_batch)\n",
    "            fake_embeddings = generator(noise)\n",
    "\n",
    "            # Train Discriminator\n",
    "            real_labels = torch.ones((real_batch.size(0), 1))\n",
    "            fake_labels = torch.zeros((real_batch.size(0), 1))\n",
    "\n",
    "            optimizer_D.zero_grad()\n",
    "            real_loss = loss_fn(discriminator(real_batch), real_labels)\n",
    "            fake_loss = loss_fn(discriminator(fake_embeddings.detach()), fake_labels)\n",
    "            d_loss = real_loss + fake_loss\n",
    "            d_loss.backward()\n",
    "            optimizer_D.step()\n",
    "\n",
    "            # Train Generator\n",
    "            optimizer_G.zero_grad()\n",
    "            g_loss = loss_fn(discriminator(fake_embeddings), real_labels)\n",
    "            g_loss.backward()\n",
    "            optimizer_G.step()\n",
    "\n",
    "        if epoch % 100 == 0:\n",
    "            print(f\"Epoch {epoch}: D Loss {d_loss.item()}, G Loss {g_loss.item()}\")\n",
    "\n",
    "    return generator\n"
   ]
  },
  {
   "cell_type": "code",
   "execution_count": null,
   "metadata": {},
   "outputs": [
    {
     "ename": "",
     "evalue": "",
     "output_type": "error",
     "traceback": [
      "\u001b[1;31mRunning cells with '/opt/homebrew/bin/python3' requires the ipykernel package.\n",
      "\u001b[1;31mRun the following command to install 'ipykernel' into the Python environment. \n",
      "\u001b[1;31mCommand: '/opt/homebrew/bin/python3 -m pip install ipykernel -U --user --force-reinstall'"
     ]
    }
   ],
   "source": [
    "import psutil\n",
    "print(f\"Available Memory: {psutil.virtual_memory().available / 1e9} GB\")\n"
   ]
  },
  {
   "cell_type": "code",
   "execution_count": null,
   "metadata": {},
   "outputs": [
    {
     "ename": "",
     "evalue": "",
     "output_type": "error",
     "traceback": [
      "\u001b[1;31mRunning cells with '/opt/homebrew/bin/python3' requires the ipykernel package.\n",
      "\u001b[1;31mRun the following command to install 'ipykernel' into the Python environment. \n",
      "\u001b[1;31mCommand: '/opt/homebrew/bin/python3 -m pip install ipykernel -U --user --force-reinstall'"
     ]
    }
   ],
   "source": [
    "def generate_refined_embeddings(generator, retrieved_embeddings):\n",
    "    refined_embeddings = generator(torch.tensor(retrieved_embeddings, dtype=torch.float32)).detach().numpy()\n",
    "    return refined_embeddings\n"
   ]
  },
  {
   "cell_type": "code",
   "execution_count": null,
   "metadata": {},
   "outputs": [
    {
     "ename": "",
     "evalue": "",
     "output_type": "error",
     "traceback": [
      "\u001b[1;31mRunning cells with '/opt/homebrew/bin/python3' requires the ipykernel package.\n",
      "\u001b[1;31mRun the following command to install 'ipykernel' into the Python environment. \n",
      "\u001b[1;31mCommand: '/opt/homebrew/bin/python3 -m pip install ipykernel -U --user --force-reinstall'"
     ]
    }
   ],
   "source": [
    "def update_faiss_index(index, refined_embeddings):\n",
    "    index.reset()  # Clear existing index\n",
    "    index.add(refined_embeddings)  # Add updated embeddings\n",
    "    faiss.write_index(index, \"data_clean/index/faiss_optimized.bin\")\n",
    "    print(\"FAISS index updated.\")\n"
   ]
  },
  {
   "cell_type": "code",
   "execution_count": null,
   "metadata": {},
   "outputs": [
    {
     "ename": "",
     "evalue": "",
     "output_type": "error",
     "traceback": [
      "\u001b[1;31mRunning cells with '/opt/homebrew/bin/python3' requires the ipykernel package.\n",
      "\u001b[1;31mRun the following command to install 'ipykernel' into the Python environment. \n",
      "\u001b[1;31mCommand: '/opt/homebrew/bin/python3 -m pip install ipykernel -U --user --force-reinstall'"
     ]
    }
   ],
   "source": [
    "import pandas as pd\n",
    "import pickle\n",
    "\n",
    "# ========== 1️⃣ Load Preprocessed Data & FAISS Index ==========\n",
    "\n",
    "# Load preprocessed text from CSV (use correct column name)\n",
    "df = pd.read_csv(\"/Users/s_lokesh/Medbot/data_clean/processed/medqa_cleaned.csv\")\n",
    "corpus = df[\"text_chunk\"].tolist()  # Extract text_chunk column as a list\n",
    "\n",
    "# Load FAISS index\n",
    "index = faiss.read_index(\"/Users/s_lokesh/Medbot/data_clean/index/faiss_index\")\n",
    "\n",
    "# Load embeddings (vector representations)\n",
    "with open(\"/Users/s_lokesh/Medbot/data_clean/index/embeddings.pkl\", \"rb\") as f:\n",
    "    embeddings = pickle.load(f)  # Ensure embeddings.pkl exists\n",
    "\n",
    "def chatbot_pipeline(query):\n",
    "    \"\"\"Complete pipeline for MedQA chatbot.\"\"\"\n",
    "    # Encode query\n",
    "    query_embedding = bert_model.encode(query)\n",
    "\n",
    "    # Step 1: Retrieve from FAISS\n",
    "    retrieved_indices, scores = retrieve_passages(query_embedding)\n",
    "    retrieved_texts = [corpus[idx] for idx in retrieved_indices]  # Assuming corpus contains the indexed texts\n",
    "\n",
    "    # Step 2: Post-Retrieval NLP Filtering\n",
    "    summarized_texts = [summarize_text(text) for text in retrieved_texts]\n",
    "    ranked_texts = rank_relevance(query, summarized_texts)\n",
    "    \n",
    "    filtered_results = []\n",
    "    for text, score in ranked_texts:\n",
    "        medical_terms = extract_medical_terms(text)\n",
    "        if medical_terms:  # Keep only medically relevant texts\n",
    "            filtered_results.append((text, score))\n",
    "\n",
    "    # Step 3: Optimize with GAN\n",
    "    retrieved_embeddings = [embeddings[int(idx)] for idx in retrieved_indices if int(idx) < len(embeddings)]\n",
    "\n",
    "\n",
    "    trained_generator = train_gan(retrieved_embeddings)\n",
    "    refined_embeddings = generate_refined_embeddings(trained_generator, retrieved_embeddings)\n",
    "\n",
    "    # Step 4: Update FAISS Index\n",
    "    update_faiss_index(index, refined_embeddings)\n",
    "\n",
    "    # Step 5: Return top answer\n",
    "    return filtered_results[0][0] if filtered_results else \"No relevant answer found.\"\n",
    "\n",
    "# Example Usage\n",
    "query = \"What are the symptoms of diabetes?\"\n",
    "response = chatbot_pipeline(query)\n",
    "print(response)\n"
   ]
  },
  {
   "cell_type": "code",
   "execution_count": null,
   "metadata": {},
   "outputs": [
    {
     "ename": "",
     "evalue": "",
     "output_type": "error",
     "traceback": [
      "\u001b[1;31mRunning cells with '/opt/homebrew/bin/python3' requires the ipykernel package.\n",
      "\u001b[1;31mRun the following command to install 'ipykernel' into the Python environment. \n",
      "\u001b[1;31mCommand: '/opt/homebrew/bin/python3 -m pip install ipykernel -U --user --force-reinstall'"
     ]
    }
   ],
   "source": [
    "import faiss\n",
    "\n",
    "index = faiss.read_index(\"/Users/s_lokesh/Medbot/data_clean/index/faiss_index\")\n",
    "\n",
    "print(\"FAISS index size:\", index.ntotal)\n",
    "print(\"FAISS embedding dimension:\", index.d)\n"
   ]
  },
  {
   "cell_type": "code",
   "execution_count": 1,
   "metadata": {},
   "outputs": [
    {
     "ename": "RuntimeError",
     "evalue": "Error in faiss::FileIOReader::FileIOReader(const char *) at /Users/runner/work/faiss-wheels/faiss-wheels/faiss/faiss/impl/io.cpp:68: Error: 'f' failed: could not open /Users/s_lokesh/Medbot/data_clean/index/index.faiss for reading: No such file or directory",
     "output_type": "error",
     "traceback": [
      "\u001b[0;31m---------------------------------------------------------------------------\u001b[0m",
      "\u001b[0;31mRuntimeError\u001b[0m                              Traceback (most recent call last)",
      "\u001b[0;32m/var/folders/80/y1gglwys7zv3jfsp6qv7p9fr0000gn/T/ipykernel_3192/3332150636.py\u001b[0m in \u001b[0;36m?\u001b[0;34m()\u001b[0m\n\u001b[1;32m      1\u001b[0m \u001b[0;32mimport\u001b[0m \u001b[0mfaiss\u001b[0m\u001b[0;34m\u001b[0m\u001b[0;34m\u001b[0m\u001b[0m\n\u001b[1;32m      2\u001b[0m \u001b[0;34m\u001b[0m\u001b[0m\n\u001b[1;32m      3\u001b[0m \u001b[0mDB_FAISS_PATH\u001b[0m \u001b[0;34m=\u001b[0m \u001b[0;34m\"/Users/s_lokesh/Medbot/data_clean/index/index.faiss\"\u001b[0m\u001b[0;34m\u001b[0m\u001b[0;34m\u001b[0m\u001b[0m\n\u001b[1;32m      4\u001b[0m \u001b[0;34m\u001b[0m\u001b[0m\n\u001b[0;32m----> 5\u001b[0;31m \u001b[0mindex\u001b[0m \u001b[0;34m=\u001b[0m \u001b[0mfaiss\u001b[0m\u001b[0;34m.\u001b[0m\u001b[0mread_index\u001b[0m\u001b[0;34m(\u001b[0m\u001b[0mDB_FAISS_PATH\u001b[0m\u001b[0;34m)\u001b[0m\u001b[0;34m\u001b[0m\u001b[0;34m\u001b[0m\u001b[0m\n\u001b[0m\u001b[1;32m      6\u001b[0m \u001b[0mprint\u001b[0m\u001b[0;34m(\u001b[0m\u001b[0;34m\"FAISS Index Loaded Successfully\"\u001b[0m\u001b[0;34m)\u001b[0m\u001b[0;34m\u001b[0m\u001b[0;34m\u001b[0m\u001b[0m\n",
      "\u001b[0;32m~/Medbot/venv/lib/python3.11/site-packages/faiss/swigfaiss.py\u001b[0m in \u001b[0;36m?\u001b[0;34m(*args)\u001b[0m\n\u001b[1;32m  11302\u001b[0m \u001b[0;32mdef\u001b[0m \u001b[0mread_index\u001b[0m\u001b[0;34m(\u001b[0m\u001b[0;34m*\u001b[0m\u001b[0margs\u001b[0m\u001b[0;34m)\u001b[0m\u001b[0;34m:\u001b[0m\u001b[0;34m\u001b[0m\u001b[0;34m\u001b[0m\u001b[0m\n\u001b[0;32m> 11303\u001b[0;31m     \u001b[0;32mreturn\u001b[0m \u001b[0m_swigfaiss\u001b[0m\u001b[0;34m.\u001b[0m\u001b[0mread_index\u001b[0m\u001b[0;34m(\u001b[0m\u001b[0;34m*\u001b[0m\u001b[0margs\u001b[0m\u001b[0;34m)\u001b[0m\u001b[0;34m\u001b[0m\u001b[0;34m\u001b[0m\u001b[0m\n\u001b[0m",
      "\u001b[0;31mRuntimeError\u001b[0m: Error in faiss::FileIOReader::FileIOReader(const char *) at /Users/runner/work/faiss-wheels/faiss-wheels/faiss/faiss/impl/io.cpp:68: Error: 'f' failed: could not open /Users/s_lokesh/Medbot/data_clean/index/index.faiss for reading: No such file or directory"
     ]
    }
   ],
   "source": [
    "import faiss\n",
    "\n",
    "DB_FAISS_PATH = \"/Users/s_lokesh/Medbot/data_clean/index/index.faiss\"\n",
    "\n",
    "index = faiss.read_index(DB_FAISS_PATH)\n",
    "print(\"FAISS Index Loaded Successfully\")\n"
   ]
  },
  {
   "cell_type": "code",
   "execution_count": null,
   "metadata": {},
   "outputs": [
    {
     "ename": "",
     "evalue": "",
     "output_type": "error",
     "traceback": [
      "\u001b[1;31mRunning cells with '/opt/homebrew/bin/python3' requires the ipykernel package.\n",
      "\u001b[1;31mRun the following command to install 'ipykernel' into the Python environment. \n",
      "\u001b[1;31mCommand: '/opt/homebrew/bin/python3 -m pip install ipykernel -U --user --force-reinstall'"
     ]
    }
   ],
   "source": [
    "from langchain_community.vectorstores import FAISS\n",
    "from langchain_huggingface import HuggingFaceEmbeddings\n",
    "import pandas as pd\n",
    "\n",
    "db = FAISS.load_local(DB_FAISS_PATH, embeddings, allow_dangerous_deserialization=True)\n",
    "print(\"LangChain FAISS Index Loaded Successfully!\")\n",
    "\n"
   ]
  }
 ],
 "metadata": {
  "kernelspec": {
   "display_name": "venv",
   "language": "python",
   "name": "python3"
  },
  "language_info": {
   "codemirror_mode": {
    "name": "ipython",
    "version": 3
   },
   "file_extension": ".py",
   "mimetype": "text/x-python",
   "name": "python",
   "nbconvert_exporter": "python",
   "pygments_lexer": "ipython3",
   "version": "3.11.11"
  },
  "orig_nbformat": 4
 },
 "nbformat": 4,
 "nbformat_minor": 2
}
